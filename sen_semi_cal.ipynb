{
 "cells": [
  {
   "cell_type": "code",
   "execution_count": 47,
   "metadata": {},
   "outputs": [
    {
     "ename": "SyntaxError",
     "evalue": "invalid syntax (<ipython-input-47-4414a35e7332>, line 53)",
     "output_type": "error",
     "traceback": [
      "\u001b[0;36m  File \u001b[0;32m\"<ipython-input-47-4414a35e7332>\"\u001b[0;36m, line \u001b[0;32m53\u001b[0m\n\u001b[0;31m    core_qa_dic_vec =\u001b[0m\n\u001b[0m                      ^\u001b[0m\n\u001b[0;31mSyntaxError\u001b[0m\u001b[0;31m:\u001b[0m invalid syntax\n"
     ]
    }
   ],
   "source": [
    "#encoding = utf8\n",
    "import jieba\n",
    "from gensim.models.keyedvectors import KeyedVectors\n",
    "\n",
    "def load_word2vec(vec_path = '/home/gwang3/workspace/chatbot/chinese_word2vec/cn.skipgram.bin'):\n",
    "    return KeyedVectors.load_word2vec_format('/home/gwang3/workspace/chatbot/chinese_word2vec/cn.skipgram.bin', binary=True, unicode_errors='ignore')\n",
    "\n",
    "def load_core_words(core_word_path = 'elec_core_word'):\n",
    "    core_word_list = []\n",
    "    infile = open(core_word_path)\n",
    "    for line in infile:\n",
    "        core_word_list.append(line.strip())\n",
    "    return core_word_list\n",
    "\n",
    "def cal_sen_vec(sentence, core_word_list, model):\n",
    "    seg_list = jieba.cut(sentence)\n",
    "    #for item in seg_list:\n",
    "    #    print item\n",
    "    vec = []\n",
    "    for item in core_word_list:\n",
    "        max_simi = 0\n",
    "        for sen_seg in seg_list:\n",
    "            simi_tmp = 0\n",
    "            try:\n",
    "                simi_tmp = model.similairity(item, sen_seg)\n",
    "            except:\n",
    "                simi_tmp = 0\n",
    "            if simi_tmp > max_simi:\n",
    "                max_simi = simi_tmp\n",
    "        vec.append(max_simi)\n",
    "    return vec\n",
    "\n",
    "\n",
    "#Core QA Dic Format:\n",
    "#core_qa_dic[question][0] = question_vector\n",
    "#core_qa_dic[question][1] = answer\n",
    "def load_core_qa(core_qa_path = 'elec_core_qa', core_word_list, model):\n",
    "    core_qa_dic = {}\n",
    "    infile = open(core_qa_path)\n",
    "    for line in infile:\n",
    "        line = line.strip().split('|')\n",
    "        question = line[0].strip()\n",
    "        answer = linep[1].strip()\n",
    "        core_qa_dic[question] = []\n",
    "        core_qa_dic[question].append(cal_sen_vec(question, core_word_list, model))\n",
    "        core_qa_dic[question].append(answer)\n",
    "    return core_qa_dic\n",
    "    \n",
    "\n",
    "def cal_sen_simi(sentence1, sentence2):\n",
    "    return 0\n",
    "    \n",
    "def main():\n",
    "    model = load_word2vec()\n",
    "    core_word_list = load_core_words()\n",
    "    core_qa_dic = load_core_qa(core_word_list = core_word_list, model = model)\n",
    "    \n",
    "    \n",
    "    "
   ]
  },
  {
   "cell_type": "code",
   "execution_count": 7,
   "metadata": {},
   "outputs": [
    {
     "name": "stdout",
     "output_type": "stream",
     "text": [
      "今天天气\n",
      "不错\n",
      "，\n",
      "我\n",
      "准备\n",
      "去\n",
      "吃\n",
      "个\n",
      "包子\n",
      "。\n",
      "包子\n",
      "是\n",
      "大\n",
      "肉馅\n",
      "的\n",
      "，\n",
      "特别\n",
      "特别\n",
      "香\n",
      "！\n"
     ]
    }
   ],
   "source": [
    "cal_sen_vec(\"今天天气不错，我准备去吃个包子。包子是大肉馅的，特别特别香！\")"
   ]
  },
  {
   "cell_type": "code",
   "execution_count": 18,
   "metadata": {},
   "outputs": [],
   "source": [
    "from gensim.models.keyedvectors import KeyedVectors\n",
    "model = KeyedVectors.load_word2vec_format('/home/gwang3/workspace/chatbot/chinese_word2vec/cn.skipgram.bin', binary=True, unicode_errors='ignore')"
   ]
  },
  {
   "cell_type": "code",
   "execution_count": 46,
   "metadata": {},
   "outputs": [
    {
     "name": "stdout",
     "output_type": "stream",
     "text": [
      "0.71662710525\n"
     ]
    }
   ],
   "source": [
    "print model.similarity(u'电费', u'水费')"
   ]
  },
  {
   "cell_type": "code",
   "execution_count": null,
   "metadata": {},
   "outputs": [],
   "source": []
  }
 ],
 "metadata": {
  "kernelspec": {
   "display_name": "Python 2",
   "language": "python",
   "name": "python2"
  },
  "language_info": {
   "codemirror_mode": {
    "name": "ipython",
    "version": 2
   },
   "file_extension": ".py",
   "mimetype": "text/x-python",
   "name": "python",
   "nbconvert_exporter": "python",
   "pygments_lexer": "ipython2",
   "version": "2.7.13"
  }
 },
 "nbformat": 4,
 "nbformat_minor": 2
}
